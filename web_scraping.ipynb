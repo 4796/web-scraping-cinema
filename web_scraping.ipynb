{
 "cells": [
  {
   "cell_type": "code",
   "id": "initial_id",
   "metadata": {
    "collapsed": true,
    "ExecuteTime": {
     "end_time": "2025-01-26T10:59:16.169335Z",
     "start_time": "2025-01-26T10:59:14.638872Z"
    }
   },
   "source": [
    "from datetime import date\n",
    "\n",
    "from selenium import webdriver\n",
    "from selenium.webdriver import ChromeOptions\n",
    "from bs4 import BeautifulSoup\n",
    "from sys import stderr\n",
    "from datetime import timedelta\n",
    "import time\n",
    "from ipywidgets import widgets\n",
    "from IPython.display import display\n",
    "from selenium import webdriver\n",
    "from selenium.webdriver.common.by import By\n",
    "from selenium.webdriver.common.action_chains import ActionChains"
   ],
   "outputs": [],
   "execution_count": 2
  },
  {
   "metadata": {
    "ExecuteTime": {
     "end_time": "2025-01-26T10:59:17.202008Z",
     "start_time": "2025-01-26T10:59:17.192855Z"
    }
   },
   "cell_type": "code",
   "source": [
    "class Projekcija:\n",
    "    def __init__(self, filmm, vreme, bioskop, cena):\n",
    "        self._link = None\n",
    "        self._film = filmm\n",
    "        self._vreme = vreme\n",
    "        self._cena = cena\n",
    "        self._bioskop = bioskop\n",
    "\n",
    "    def __str__(self):\n",
    "        return f'Film: {self._film}'\n",
    "\n",
    "    @property\n",
    "    def link(self):\n",
    "        return self._link\n",
    "\n",
    "    @link.setter\n",
    "    def link(self, value):\n",
    "        self._link = value\n",
    "        \n",
    "    @property\n",
    "    def film(self):\n",
    "        return self._film\n",
    "\n",
    "    @film.setter\n",
    "    def film(self, value):\n",
    "        self._film = value\n",
    "\n",
    "    @property\n",
    "    def vreme(self):\n",
    "        return self._vreme\n",
    "\n",
    "    @vreme.setter\n",
    "    def vreme(self, value):\n",
    "        self._vreme = value\n",
    "\n",
    "    @property\n",
    "    def bioskop(self):\n",
    "        return self._bioskop\n",
    "\n",
    "    @bioskop.setter\n",
    "    def bioskop(self, value):\n",
    "        self._bioskop = value\n",
    "\n",
    "    @property\n",
    "    def cena(self):\n",
    "        return self._cena\n",
    "\n",
    "    @cena.setter\n",
    "    def cena(self, value):\n",
    "        self._cena = value\n"
   ],
   "id": "2bef7ca0640adcbf",
   "outputs": [],
   "execution_count": 3
  },
  {
   "metadata": {
    "ExecuteTime": {
     "end_time": "2025-01-26T10:59:19.063048Z",
     "start_time": "2025-01-26T10:59:19.059593Z"
    }
   },
   "cell_type": "code",
   "source": [
    "def get_chrome_web_driver():\n",
    "    \"\"\"\n",
    "    Creates and returns a Selenium web driver for Chrome web-browser\n",
    "\n",
    "    :return: Selenium web driver for Chrome browser\n",
    "    \"\"\"\n",
    "    options = ChromeOptions()\n",
    "    options.add_argument('headless') # to prevent browser from opening when extracting content of a web page\n",
    "    return webdriver.Chrome(options=options)"
   ],
   "id": "a6a3f0dc4afcd9f3",
   "outputs": [],
   "execution_count": 4
  },
  {
   "metadata": {
    "ExecuteTime": {
     "end_time": "2025-01-26T10:59:20.402690Z",
     "start_time": "2025-01-26T10:59:20.399347Z"
    }
   },
   "cell_type": "code",
   "source": [
    "def citanje_stranice(webdriver, url):\n",
    "    webdriver.get(url)\n",
    "    page_content = webdriver.page_source\n",
    "    page_soup = BeautifulSoup(page_content, features='html.parser')\n",
    "    if not page_soup:\n",
    "        raise RuntimeError(f\"Could not parse content from URL: {url}. Cannot proceed!\")\n",
    "    supa = page_soup.find('div', class_='movie-list')\n",
    "    try:\n",
    "        supa.find('ul').find_all('li')\n",
    "    except Exception as err:\n",
    "        return None\n",
    "    return supa"
   ],
   "id": "2f38406e7791ad07",
   "outputs": [],
   "execution_count": 5
  },
  {
   "metadata": {
    "ExecuteTime": {
     "end_time": "2025-01-26T10:59:21.182098Z",
     "start_time": "2025-01-26T10:59:21.178232Z"
    }
   },
   "cell_type": "code",
   "source": [
    "def citanje_stranice2(webdriver, url):\n",
    "    webdriver.get(url)\n",
    "    page_content = webdriver.page_source\n",
    "    page_soup = BeautifulSoup(page_content, features='html.parser')\n",
    "    if not page_soup:\n",
    "        raise RuntimeError(f\"Could not parse content from URL: {url}. Cannot proceed!\")\n",
    "    #try:\n",
    "   #     supa.find('ul').find_all('li')\n",
    "   # except Exception as err:\n",
    "   #     return None\n",
    "    return page_soup"
   ],
   "id": "bcd4be163a0b0075",
   "outputs": [],
   "execution_count": 6
  },
  {
   "metadata": {
    "ExecuteTime": {
     "end_time": "2025-01-26T10:59:21.771495Z",
     "start_time": "2025-01-26T10:59:21.765971Z"
    }
   },
   "cell_type": "code",
   "source": [
    "def prva(url):\n",
    "    listaFilmova=list()\n",
    "    webdriver = get_chrome_web_driver()\n",
    "    if not webdriver:\n",
    "        raise RuntimeError(\"An error occurred while setting up web driver!\")\n",
    "    supa=None\n",
    "    uspeh=False\n",
    "    n=0\n",
    "    while not uspeh:\n",
    "        supa=citanje_stranice(webdriver, url)\n",
    "        if not supa is None:\n",
    "            uspeh=True\n",
    "            break\n",
    "        n=n+1\n",
    "        if n==4:\n",
    "            raise Exception()\n",
    "    for li in supa.find('ul').find_all('li'):\n",
    "        figcaption = li.find('figcaption', class_='l-entity__figure-caption')\n",
    "        if figcaption:\n",
    "            text = figcaption.get_text()\n",
    "            p=Projekcija(text, None, None, None)\n",
    "            listaFilmova.append(p)\n",
    "        else:\n",
    "            print(\"Element nije pronađen!\")\n",
    "    return listaFilmova\n",
    "    "
   ],
   "id": "54265642d32b5fd4",
   "outputs": [],
   "execution_count": 7
  },
  {
   "metadata": {
    "ExecuteTime": {
     "end_time": "2025-01-26T10:59:22.432742Z",
     "start_time": "2025-01-26T10:59:22.424966Z"
    }
   },
   "cell_type": "code",
   "source": [
    "def druga(url):\n",
    "    listaFilmova=list()\n",
    "    webdriver = get_chrome_web_driver()\n",
    "    if not webdriver:\n",
    "        raise RuntimeError(\"An error occurred while setting up web driver!\")\n",
    "    supa=None\n",
    "    uspeh=False\n",
    "    n=0\n",
    "    while not uspeh:\n",
    "        supa=citanje_stranice2(webdriver, url)\n",
    "        if not supa is None:\n",
    "            uspeh=True\n",
    "            break\n",
    "        n=n+1\n",
    "        if n==4:\n",
    "            raise Exception()\n",
    "    for bioskop in supa.findAll('div', class_='sc-cSHVUG sc-jzgbtB b-entity-content gRedAN'):\n",
    "        for proj in bioskop.find('ul').find_all('li'):\n",
    "            if proj:\n",
    "                b= bioskop.find('a', class_='b-entity-content__title b-entity-content__link')\n",
    "                b=b.text\n",
    "                proj=proj.find('a', class_='sc-kEYyzF l-tickets__item-link khlFkZ')\n",
    "                link1=proj.get('href')\n",
    "                link=f'https://www.cineplexx.rs{link1}/tickets'\n",
    "                status = proj.get('status')\n",
    "                vreme=proj.find('p', class_='l-tickets__item-time').get_text()\n",
    "                projekcija=Projekcija(odabrani_film, vreme, b, None)\n",
    "                projekcija.link=link\n",
    "                if status==\"green\" or status==\"yellow\":\n",
    "                    listaFilmova.append(projekcija)\n",
    "                #text = figcaption.get_text()\n",
    "                #p=Projekcija(text, None, None, None)\n",
    "                \n",
    "            else:\n",
    "                print(\"Element nije pronađen!\")\n",
    "    return listaFilmova"
   ],
   "id": "5203cae91938f8c1",
   "outputs": [],
   "execution_count": 8
  },
  {
   "metadata": {
    "ExecuteTime": {
     "end_time": "2025-01-26T10:59:52.078321Z",
     "start_time": "2025-01-26T10:59:31.694108Z"
    }
   },
   "cell_type": "code",
   "source": [
    "url=\"https://www.cineplexx.rs/film?category=now&location=0&date=2025-01-25\"\n",
    "listaFilmova=None\n",
    "try:\n",
    "    print(\"Lista filmova:\")\n",
    "    listaFilmova= prva(url)\n",
    "    broj=1\n",
    "    for film in listaFilmova:\n",
    "        print(str(broj)+\". \"+film.film)\n",
    "        broj=broj+1\n",
    "except RuntimeError as err:\n",
    "    stderr.write(f\"Terminating the program due to the following runtime error:\\n{err}\")\n",
    "except Exception as err:\n",
    "    print(\"Greska\")\n",
    "    stderr.write(f\"Terminating the program due to the following runtime error:\\n{err}\")"
   ],
   "id": "5921a0656c35fcd1",
   "outputs": [
    {
     "name": "stdout",
     "output_type": "stream",
     "text": [
      "Lista filmova:\n",
      "1. Bob Dylan: Potpuni neznanac\n",
      "2. Bratstvo lopova 2: Panter\n",
      "3. Čovek vuk\n",
      "4. Deda Mraz: Superheroj\n",
      "5. Gladijator II\n",
      "6. Istinski bol\n",
      "7. Izolacija\n",
      "8. Jeretik\n",
      "9. Mali Alan\n",
      "10. Meda Pedington u džungli\n",
      "11. Mudbrick: Kult mrtvih\n",
      "12. Mufasa: Kralj lavova\n",
      "13. Nosferatu\n",
      "14. Pored nas\n",
      "15. Požuda\n",
      "16. Rizičan let\n",
      "17. Sonikov film 3\n",
      "18. Susedna soba\n",
      "19. Vajana 2\n",
      "20. Volja sinovljeva\n",
      "21. Vreme koje imamo\n",
      "22. Žena u praznoj sobi\n",
      "23. Zlica\n"
     ]
    }
   ],
   "execution_count": 9
  },
  {
   "metadata": {
    "ExecuteTime": {
     "end_time": "2025-01-26T13:32:15.914180Z",
     "start_time": "2025-01-26T13:32:14.576951Z"
    }
   },
   "cell_type": "code",
   "source": [
    "try:\n",
    "    broj = input(\"Unesite broj filma koji zelite da izaberete: \")\n",
    "    print(\"Uneli ste:\", str(broj))\n",
    "    print(\"Odabrali ste film: \"+listaFilmova[int(broj)-1].film)\n",
    "    odabrani_film=listaFilmova[int(broj)-1]\n",
    "except Exception as err:\n",
    "    print(\"Pogresan unos\")"
   ],
   "id": "d2a677095dc3428b",
   "outputs": [
    {
     "name": "stdout",
     "output_type": "stream",
     "text": [
      "Uneli ste: 2\n",
      "Odabrali ste film: Bratstvo lopova 2: Panter\n"
     ]
    }
   ],
   "execution_count": 48
  },
  {
   "metadata": {
    "ExecuteTime": {
     "end_time": "2025-01-26T13:35:25.042753Z",
     "start_time": "2025-01-26T13:35:07.958032Z"
    }
   },
   "cell_type": "code",
   "source": [
    "try:\n",
    "    dan = input(\"Ako zelite informacije za danas unesite 0, za sutra 1, za dva dana 2, do 4: \")\n",
    "    print(\"Uneli ste:\", str(dan))\n",
    "    dan=int(dan)\n",
    "    if dan<0 or dan>4:\n",
    "        print(\"Pogresan unos\")\n",
    "    else:\n",
    "        if dan==0:\n",
    "            print(\"Izabrali ste danas\")\n",
    "        elif dan==1:\n",
    "            print(\"Izabrali ste sutra\")\n",
    "        elif dan==2:\n",
    "            print(\"Izabrali ste prekosutra\")\n",
    "        elif dan==3:\n",
    "            print(\"Izabrali ste za 3 dana\")\n",
    "        elif dan==1:\n",
    "            print(\"Izabrali ste za 4 dana\")\n",
    "except Exception as err:\n",
    "    print(\"Pogresan unos\")"
   ],
   "id": "76f5dd5584135277",
   "outputs": [
    {
     "name": "stdout",
     "output_type": "stream",
     "text": [
      "Uneli ste: 0\n",
      "Izabrali ste danas\n"
     ]
    }
   ],
   "execution_count": 51
  },
  {
   "metadata": {
    "ExecuteTime": {
     "end_time": "2025-01-26T11:00:27.036487Z",
     "start_time": "2025-01-26T11:00:27.026161Z"
    }
   },
   "cell_type": "code",
   "source": [
    "\n",
    "\n",
    "f1=odabrani_film.film.split(\" \")\n",
    "ime=\"\"\n",
    "for rec in f1:\n",
    "    rec=rec.strip(\":\")\n",
    "    ime=ime+\"-\"+rec\n",
    "ime=ime.strip(\"-\")\n",
    "datum=date.today()\n",
    "datum=datum + timedelta(days=dan)\n",
    "datum=datum.strftime(\"%Y-%m-%d\")  "
   ],
   "id": "af33bd15c4803e42",
   "outputs": [
    {
     "data": {
      "text/plain": [
       "'2025-01-26'"
      ]
     },
     "execution_count": 12,
     "metadata": {},
     "output_type": "execute_result"
    }
   ],
   "execution_count": 12
  },
  {
   "metadata": {
    "ExecuteTime": {
     "end_time": "2025-01-26T11:00:43.818628Z",
     "start_time": "2025-01-26T11:00:43.808816Z"
    }
   },
   "cell_type": "code",
   "source": "url_filma=f\"https://www.cineplexx.rs/film/{ime}?date={datum}&location=0\"",
   "id": "694879c05378297e",
   "outputs": [
    {
     "data": {
      "text/plain": [
       "'https://www.cineplexx.rs/film/Bratstvo-lopova-2-Panter?date=2025-01-26&location=0'"
      ]
     },
     "execution_count": 13,
     "metadata": {},
     "output_type": "execute_result"
    }
   ],
   "execution_count": 13
  },
  {
   "metadata": {
    "ExecuteTime": {
     "end_time": "2025-01-26T12:31:19.833923Z",
     "start_time": "2025-01-26T12:30:45.595876Z"
    }
   },
   "cell_type": "code",
   "source": [
    "listaPotencijalnih=None\n",
    "try:\n",
    "    print(\"Lista projekcija izabranog filma, izabranog dana:\")\n",
    "    uspeh=False\n",
    "    t=0\n",
    "    while not uspeh:\n",
    "        listaPotencijalnih= druga(url_filma)\n",
    "        if len(listaPotencijalnih)>0:\n",
    "            uspeh=True\n",
    "        t=t+1\n",
    "        if t>4:\n",
    "            raise Exception(\"GRESKAA\")\n",
    "    #ako je duzina liste 0 onda ponovi za error, mozda\n",
    "    broj=1\n",
    "    for film1 in listaPotencijalnih:\n",
    "        print(str(broj)+\". \"+odabrani_film.film+\" \"+film1.bioskop+\" \"+film1.vreme)\n",
    "        print(film1.link)\n",
    "        broj=broj+1\n",
    "except RuntimeError as err:\n",
    "    stderr.write(f\"Terminating the program due to the following runtime error:\\n{err}\")\n",
    "except Exception as err:\n",
    "    print(\"Greska\")\n",
    "    stderr.write(f\"Terminating the program due to the following runtime error:\\n{err}\")"
   ],
   "id": "9cab0f7aeb6909bf",
   "outputs": [
    {
     "name": "stdout",
     "output_type": "stream",
     "text": [
      "Lista projekcija izabranog filma, izabranog dana:\n",
      "1. Bratstvo lopova 2: Panter CINEPLEXX 4D DELTA CITY 20:20\n",
      "https://www.cineplexx.rs/purchase/wizard/1111-56354/tickets\n",
      "2. Bratstvo lopova 2: Panter CINEPLEXX UŠĆE SHOPPING CENTER 18:40\n",
      "https://www.cineplexx.rs/purchase/wizard/1113-95789/tickets\n",
      "3. Bratstvo lopova 2: Panter CINEPLEXX UŠĆE SHOPPING CENTER 21:10\n",
      "https://www.cineplexx.rs/purchase/wizard/1113-95737/tickets\n",
      "4. Bratstvo lopova 2: Panter Cineplexx BIG Beograd 20:45\n",
      "https://www.cineplexx.rs/purchase/wizard/1115-68734/tickets\n",
      "5. Bratstvo lopova 2: Panter CINEPLEXX BEO SHOPPING CENTER 21:00\n",
      "https://www.cineplexx.rs/purchase/wizard/1118-48404/tickets\n",
      "6. Bratstvo lopova 2: Panter CINEPLEXX GALERIJA BEOGRAD 20:00\n",
      "https://www.cineplexx.rs/purchase/wizard/1119-43140/tickets\n",
      "7. Bratstvo lopova 2: Panter CINEPLEXX GALERIJA BEOGRAD 22:30\n",
      "https://www.cineplexx.rs/purchase/wizard/1119-43160/tickets\n"
     ]
    }
   ],
   "execution_count": 38
  },
  {
   "metadata": {
    "ExecuteTime": {
     "end_time": "2025-01-26T13:29:00.359700Z",
     "start_time": "2025-01-26T13:27:59.395260Z"
    }
   },
   "cell_type": "code",
   "source": [
    "try:\n",
    "    #driver = webdriver.Chrome()  #da se vidi chrome otvoren\n",
    "    driver = get_chrome_web_driver()\n",
    "    for film1 in listaPotencijalnih:\n",
    "        driver.get(film1.link)\n",
    "        #popup    nekad nema, nekad ima\n",
    "        try:\n",
    "            button = driver.find_element(By.ID, \"CybotCookiebotDialogBodyButtonDecline\")\n",
    "            button.click()\n",
    "            driver.implicitly_wait(2)\n",
    "        except Exception as err:\n",
    "            #print(\"Nema za kuki\")\n",
    "            driver.implicitly_wait(2)\n",
    "        \n",
    "        #jedna osoba\n",
    "        button = driver.find_elements(By.CLASS_NAME, \"sc-feJyhm.kDucxu\")[1]\n",
    "        button.click()\n",
    "        driver.implicitly_wait(2)\n",
    "        #dugme sledece\n",
    "        button = driver.find_elements(By.CSS_SELECTOR, \".sc-bdVaJa.LRCVX\")[1]\n",
    "        driver.execute_script(\"arguments[0].click();\", button)\n",
    "        driver.implicitly_wait(5)\n",
    "    \n",
    "        #odabir mesta    nova stranica\n",
    "        buttons = driver.find_elements(By.CSS_SELECTOR, \".sc-cpmKsF.l-seats__item[tabindex]\")\n",
    "        nadjeno_mesto=False\n",
    "        for button in buttons:\n",
    "            try:\n",
    "                #proveri da li je vip\n",
    "                img_element = button.find_element(By.TAG_NAME, \"img\")\n",
    "                src = img_element.get_attribute(\"src\")\n",
    "                if src!=\"https://app.cineplexx.rs/static/area_categories/free.svg\":\n",
    "                    continue\n",
    "                ##https://app.cineplexx.rs/static/area_categories/vip.svg\n",
    "                button.click()\n",
    "                driver.implicitly_wait(2)\n",
    "                strong_element = driver.find_element(By.CSS_SELECTOR, \"div.sc-kAzzGY.sc-ipZHIp.bYIrLb strong\")\n",
    "                cena1 = strong_element.text\n",
    "                nadjeno_mesto=True\n",
    "                cena1=cena1.split(\",\")\n",
    "                cena1=cena1[0]\n",
    "                cena1=int(cena1)\n",
    "                if cena1==0:\n",
    "                    continue\n",
    "                film1.cena=cena1\n",
    "                break\n",
    "            except Exception as err:\n",
    "                print()#ne treba nista da stamp\n",
    "    listaPotencijalnih.sort(key=lambda x: x.cena, reverse=True)\n",
    "    for film1 in listaPotencijalnih:\n",
    "        print(odabrani_film.film+\" cena \"+str(film1.cena)+\" \"+film1.vreme+\" \"+ film1.bioskop+\" \"+film1.link)\n",
    "    razlika=listaPotencijalnih[0].cena-listaPotencijalnih[-1].cena\n",
    "    print(\"Danas mozete da ustedite najvise \"+str(razlika)+\" dinara\")\n",
    "except Exception as err:\n",
    "    print(\"Greska\")\n",
    "    stderr.write(f\"Terminating the program due to the following runtime error:\\n{err}\")"
   ],
   "id": "b6f2aec7d584cb2d",
   "outputs": [
    {
     "name": "stdout",
     "output_type": "stream",
     "text": [
      "\n",
      "\n",
      "\n",
      "\n",
      "\n",
      "\n",
      "\n",
      "\n",
      "\n",
      "\n",
      "\n",
      "Bratstvo lopova 2: Panter cena 880 20:00 CINEPLEXX GALERIJA BEOGRAD https://www.cineplexx.rs/purchase/wizard/1119-43140/tickets\n",
      "Bratstvo lopova 2: Panter cena 880 22:30 CINEPLEXX GALERIJA BEOGRAD https://www.cineplexx.rs/purchase/wizard/1119-43160/tickets\n",
      "Bratstvo lopova 2: Panter cena 860 18:40 CINEPLEXX UŠĆE SHOPPING CENTER https://www.cineplexx.rs/purchase/wizard/1113-95789/tickets\n",
      "Bratstvo lopova 2: Panter cena 860 21:10 CINEPLEXX UŠĆE SHOPPING CENTER https://www.cineplexx.rs/purchase/wizard/1113-95737/tickets\n",
      "Bratstvo lopova 2: Panter cena 830 20:20 CINEPLEXX 4D DELTA CITY https://www.cineplexx.rs/purchase/wizard/1111-56354/tickets\n",
      "Bratstvo lopova 2: Panter cena 830 20:45 Cineplexx BIG Beograd https://www.cineplexx.rs/purchase/wizard/1115-68734/tickets\n",
      "Bratstvo lopova 2: Panter cena 830 21:00 CINEPLEXX BEO SHOPPING CENTER https://www.cineplexx.rs/purchase/wizard/1118-48404/tickets\n",
      "Danas mozete da ustedite najvise 50 dinara\n"
     ]
    }
   ],
   "execution_count": 46
  },
  {
   "metadata": {},
   "cell_type": "code",
   "outputs": [],
   "execution_count": null,
   "source": "",
   "id": "9b5a139257d303b0"
  }
 ],
 "metadata": {
  "kernelspec": {
   "display_name": "Python 3",
   "language": "python",
   "name": "python3"
  },
  "language_info": {
   "codemirror_mode": {
    "name": "ipython",
    "version": 2
   },
   "file_extension": ".py",
   "mimetype": "text/x-python",
   "name": "python",
   "nbconvert_exporter": "python",
   "pygments_lexer": "ipython2",
   "version": "2.7.6"
  }
 },
 "nbformat": 4,
 "nbformat_minor": 5
}
